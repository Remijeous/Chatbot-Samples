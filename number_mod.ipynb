{
  "nbformat": 4,
  "nbformat_minor": 0,
  "metadata": {
    "colab": {
      "provenance": [],
      "authorship_tag": "ABX9TyMMYwcmgLNFE9p5sCwnBfBT",
      "include_colab_link": true
    },
    "kernelspec": {
      "name": "python3",
      "display_name": "Python 3"
    },
    "language_info": {
      "name": "python"
    }
  },
  "cells": [
    {
      "cell_type": "markdown",
      "metadata": {
        "id": "view-in-github",
        "colab_type": "text"
      },
      "source": [
        "<a href=\"https://colab.research.google.com/github/Remijeous/Chatbot-Samples/blob/master/number_mod.ipynb\" target=\"_parent\"><img src=\"https://colab.research.google.com/assets/colab-badge.svg\" alt=\"Open In Colab\"/></a>"
      ]
    },
    {
      "cell_type": "code",
      "execution_count": 2,
      "metadata": {
        "colab": {
          "base_uri": "https://localhost:8080/"
        },
        "id": "qKaCezuzYBqn",
        "outputId": "aed3a377-fc78-4313-f5f7-b7e7b41edfb1"
      },
      "outputs": [
        {
          "output_type": "stream",
          "name": "stdout",
          "text": [
            "Enter any number: 5927\n",
            "Number 5927 is Odd\n"
          ]
        }
      ],
      "source": [
        "number = input(\"Enter any number: \")\n",
        "number = int(number)\n",
        "if number % 2 == 0:\n",
        "  print(\"Number \" + str(number) + \" is Even\")\n",
        "else:\n",
        "  print(\"Number \" + str(number) + \" is Odd\")"
      ]
    },
    {
      "cell_type": "code",
      "source": [
        "car = input(\"Enter the Car name you want to rent: \")\n",
        "print(\"we are searching \" + car.title() + \" for you.\")"
      ],
      "metadata": {
        "colab": {
          "base_uri": "https://localhost:8080/"
        },
        "id": "pykMXE5vb6fC",
        "outputId": "c0f23d90-b153-4a5e-aacd-7b29a8459874"
      },
      "execution_count": 4,
      "outputs": [
        {
          "output_type": "stream",
          "name": "stdout",
          "text": [
            "Enter the Car name you want to rent: subaru\n",
            "we are searching Subaru for you.\n"
          ]
        }
      ]
    },
    {
      "cell_type": "code",
      "source": [
        "seats = input(\"Enter number of people for dinner: \")\n",
        "seats = int(seats)\n",
        "if seats >= 8:\n",
        "  print(\"Seats are not able to dine-in\")\n",
        "else:\n",
        "  print(\"You can dine in now\")"
      ],
      "metadata": {
        "colab": {
          "base_uri": "https://localhost:8080/"
        },
        "id": "HfsLfNwUc1Wc",
        "outputId": "79da3eac-dd67-458e-ab02-7d463ad88d88"
      },
      "execution_count": 5,
      "outputs": [
        {
          "output_type": "stream",
          "name": "stdout",
          "text": [
            "Enter number of people for dinner: 7\n",
            "You can dine in now\n"
          ]
        }
      ]
    },
    {
      "cell_type": "code",
      "source": [
        "number = input(\"Enter any number: \")\n",
        "number = int(number)\n",
        "if number % 10 == 0:\n",
        "  print(\"Number \" + str(number) + \" is multiple of 10.\")\n",
        "else:\n",
        "  print(\"Number \" + str(number) + \" is not multiple of 10\")"
      ],
      "metadata": {
        "colab": {
          "base_uri": "https://localhost:8080/"
        },
        "id": "u8RjxTWVf8qw",
        "outputId": "088a0a53-dbe1-4101-d179-3ecaa175387e"
      },
      "execution_count": 10,
      "outputs": [
        {
          "output_type": "stream",
          "name": "stdout",
          "text": [
            "Enter any number: 110\n",
            "Number 110 is multiple of 10.\n"
          ]
        }
      ]
    }
  ]
}